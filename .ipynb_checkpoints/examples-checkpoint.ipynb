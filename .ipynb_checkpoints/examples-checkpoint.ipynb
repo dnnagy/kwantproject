{
 "cells": [
  {
   "cell_type": "code",
   "execution_count": null,
   "metadata": {},
   "outputs": [],
   "source": [
    "import numpy as np\n",
    "from matplotlib import pyplot as plt\n",
    "\n",
    "import kwant\n",
    "kwant.__version__"
   ]
  },
  {
   "cell_type": "code",
   "execution_count": null,
   "metadata": {},
   "outputs": [],
   "source": [
    "s0 = np.array([[1, 0], [0, 1]])\n",
    "sx = np.array([[0, 1], [1, 0]])\n",
    "sy = np.array([[0, -1j], [1j, 0]])\n",
    "sz = np.array([[1, 0], [0, -1]])"
   ]
  },
  {
   "cell_type": "markdown",
   "metadata": {},
   "source": [
    "# Simple square lattice"
   ]
  },
  {
   "cell_type": "code",
   "execution_count": null,
   "metadata": {},
   "outputs": [],
   "source": [
    "a = 1\n",
    "lat = kwant.lattice.square(a)\n",
    "syst = kwant.Builder()\n",
    "\n",
    "syst[lat(1, 0)] = 2\n",
    "syst[lat(0, 1)] = 4\n",
    "syst[lat(1, 1)] = 5\n",
    "\n",
    "kwant.plot(syst);"
   ]
  },
  {
   "cell_type": "markdown",
   "metadata": {},
   "source": [
    "# Two monatomic lattices"
   ]
  },
  {
   "cell_type": "code",
   "execution_count": null,
   "metadata": {},
   "outputs": [],
   "source": [
    "primitive_vectors = [(1, 0), (0, 1)]\n",
    "lat_a = kwant.lattice.Monatomic(primitive_vectors, offset=(0, 0))\n",
    "lat_b = kwant.lattice.Monatomic(primitive_vectors, offset=(0.5, 0.5))\n",
    "\n",
    "# lat1 is equivalent to kwant.lattice.square()\n",
    "syst = kwant.Builder()\n",
    "\n",
    "# Onsite matrix elements can be even matrices:\n",
    "syst[lat_a(0, 0)] = 4*sx\n",
    "syst[lat_b(0, 0)] = 4*sy + 3*sy.conj().T\n",
    "\n",
    "kwant.plot(syst);"
   ]
  },
  {
   "cell_type": "markdown",
   "metadata": {},
   "source": [
    "# One polyatomic lattice containing two sublattices"
   ]
  },
  {
   "cell_type": "code",
   "execution_count": null,
   "metadata": {},
   "outputs": [],
   "source": [
    "# https://kwant-project.org/doc/1/reference/generated/kwant.lattice.Polyatomic#kwant.lattice.Polyatomic\n",
    "lat = kwant.lattice.Polyatomic(prim_vecs=[(1, 0), (0, 1)], # The primitive vectors of the Bravais lattice\n",
    "                               basis=[(0, 0), (0.5, 0.5)]) # The coordinates of the basis sites inside the unit cell.\n",
    "\n",
    "sub_a, sub_b = lat.sublattices\n",
    "\n",
    "syst = kwant.Builder()\n",
    "\n",
    "syst[sub_a(1,1)] = 4\n",
    "syst[sub_a(0,0)] = 4\n",
    "syst[sub_a(1,0)] = 4\n",
    "syst[sub_a(0,1)] = 4\n",
    "\n",
    "syst[sub_b(0,0)] = 4\n",
    "syst[sub_b(0,1)] = 4\n",
    "syst[sub_b(1,0)] = 4\n",
    "syst[sub_b(1,1)] = 4\n",
    "\n",
    "kwant.plot(syst);"
   ]
  },
  {
   "cell_type": "code",
   "execution_count": null,
   "metadata": {},
   "outputs": [],
   "source": [
    "syst[sub_a.neighbors()] = -1\n",
    "syst[sub_b.neighbors()] = -1\n",
    "\n",
    "kwant.plot(syst);"
   ]
  },
  {
   "cell_type": "markdown",
   "metadata": {},
   "source": [
    "# 1 dimensional lattice"
   ]
  },
  {
   "cell_type": "code",
   "execution_count": null,
   "metadata": {
    "scrolled": true
   },
   "outputs": [],
   "source": [
    "def create_chain(a=1, n=20, hoppings=False):\n",
    "  lat = kwant.lattice.chain(a)\n",
    "  \n",
    "  syst = kwant.Builder()\n",
    "  \n",
    "  for j in range(20):\n",
    "    syst[lat(j)] = 4\n",
    "    \n",
    "  if hoppings:\n",
    "    syst[lat.neighbors()] = -1\n",
    "  \n",
    "  return lat, syst\n",
    "\n",
    "lat, sys = create_chain(1,20, True)\n",
    "kwant.plot(sys, dpi=196);"
   ]
  },
  {
   "cell_type": "markdown",
   "metadata": {},
   "source": [
    "# Solving eigenvalues for a closed system"
   ]
  },
  {
   "cell_type": "code",
   "execution_count": null,
   "metadata": {},
   "outputs": [],
   "source": [
    "# Get the hamiltonian matrix of the system\n",
    "ham_mat = syst.finalized().hamiltonian_submatrix(sparse=True)\n",
    "\n",
    "# Use scipy to solve the eigenvalue problem\n",
    "import scipy.sparse.linalg as sla\n",
    "\n",
    "# The 15 lowest eigenvalues\n",
    "ev = sla.eigsh(ham_mat.tocsc(), k=5, return_eigenvectors=False)"
   ]
  },
  {
   "cell_type": "code",
   "execution_count": null,
   "metadata": {},
   "outputs": [],
   "source": [
    "ev"
   ]
  },
  {
   "cell_type": "code",
   "execution_count": null,
   "metadata": {},
   "outputs": [],
   "source": [
    "# Use scipy to solve the eigenvalue problem\n",
    "import scipy.sparse.linalg as sla\n",
    "\n",
    "def eigv_plotter():\n",
    "  \n",
    "  aa = np.linspace(0.01, 10000, 1000)\n",
    "  evs = []\n",
    "  \n",
    "  n_eig = 15 # The number of lowest eigenvalues\n",
    "  \n",
    "  for a in aa:\n",
    "    lat, sys = create_chain(a, 2, True)\n",
    "    ham_mat = sys.finalized().hamiltonian_submatrix(sparse=True)\n",
    "    \n",
    "    \n",
    "    ev = sla.eigsh(ham_mat.tocsc(), k=n_eig, return_eigenvectors=False)\n",
    "    evs.append(ev)\n",
    "    \n",
    "  evs = np.array(evs)\n",
    "  \n",
    "  plt.figure(figsize=(10, 6), dpi=196)\n",
    "  \n",
    "  for j in range(n_eig):\n",
    "    plt.plot(aa, evs.T[j, :], '-', alpha=.75, label=\"k={}\".format(j+1))\n",
    "    \n",
    "  plt.legend()\n",
    "  \n",
    "  \n",
    "eigv_plotter()"
   ]
  },
  {
   "cell_type": "markdown",
   "metadata": {},
   "source": [
    "# Attaching leads to a system"
   ]
  },
  {
   "cell_type": "code",
   "execution_count": null,
   "metadata": {},
   "outputs": [],
   "source": [
    "# Left lead\n",
    "sleft = kwant.TranslationalSymmetry((-1,))\n",
    "left_lead = kwant.Builder(sleft)\n",
    "\n",
    "for j in range(5):\n",
    "  left_lead[lat(j)] = 4\n",
    "\n",
    "left_lead[lat.neighbors()] = -1\n",
    "sys.attach_lead(left_lead)\n",
    "\n",
    "# Right lead\n",
    "sright = kwant.TranslationalSymmetry((1,))\n",
    "right_lead = kwant.Builder(sright)\n",
    "\n",
    "for j in range(5):\n",
    "  right_lead[lat(20+j)] = 4\n",
    "  \n",
    "right_lead[lat.neighbors()] = -1\n",
    "sys.attach_lead(right_lead)\n",
    "\n",
    "kwant.plot(sys, dpi=196);"
   ]
  },
  {
   "cell_type": "markdown",
   "metadata": {},
   "source": [
    "# Creating a square lattice with circle shape"
   ]
  },
  {
   "cell_type": "code",
   "execution_count": null,
   "metadata": {},
   "outputs": [],
   "source": [
    "a = 1\n",
    "lat = kwant.lattice.square(a)\n",
    "syst = kwant.Builder()\n",
    "\n",
    "# A shape can be defined using a function, that returns True, if a point is\n",
    "# inside the shape, False otherwise\n",
    "def circle(pos):\n",
    "  x,y = pos\n",
    "  return x**2 + y**2 < 240\n",
    "\n",
    "t = -1\n",
    "\n",
    "# Doc: https://kwant-project.org/doc/1/reference/generated/kwant.lattice.Polyatomic#kwant.lattice.Polyatomic.shape\n",
    "syst[lat.shape(function=circle, start=(0,0))] = -4*t\n",
    "\n",
    "# Adding hoppings to the lattice:\n",
    "syst[lat.neighbors()] = t\n",
    "\n",
    "fig = kwant.plot(syst, dpi=196);\n",
    "fig.savefig(\"circular_square_lat.png\", dpi=196)"
   ]
  },
  {
   "cell_type": "code",
   "execution_count": null,
   "metadata": {
    "scrolled": false
   },
   "outputs": [],
   "source": [
    "# Calculate wavefunctions and plot \n",
    "ham_mat = syst.finalized().hamiltonian_submatrix(sparse=True)\n",
    "evals, evecs = sla.eigsh(ham_mat.tocsc(), k=9, sigma=0)\n",
    "\n",
    "fig, axes = plt.subplots(3, 3, figsize=(10, 10), dpi=196)\n",
    "\n",
    "for i in range(9):\n",
    "  kwant.plotter.map(syst.finalized(), \n",
    "                    np.abs(evecs[:, i])**2, \n",
    "                    cmap='cool', background='w',\n",
    "                    ax=axes[int(i/3)][i%3])\n",
    "  axes[int(i/3)][i%3].set_title(\"E_{0}={1}\".format(i, np.round(evals[i],6)))\n",
    "  \n",
    "fig.savefig(\"circular_square_lat_eigvs.png\", dpi=196)"
   ]
  },
  {
   "cell_type": "code",
   "execution_count": null,
   "metadata": {
    "scrolled": false
   },
   "outputs": [],
   "source": [
    "kwant.plotter.map(syst.finalized(), np.random.randint(0,255, size=(749,)), cmap='cool', background='w');"
   ]
  },
  {
   "cell_type": "code",
   "execution_count": null,
   "metadata": {},
   "outputs": [],
   "source": [
    "lead_W = 6.0\n",
    "\n",
    "def lead_shape(pos):\n",
    "  x,y = pos\n",
    "  return (-lead_W/2 < y < lead_W/2)\n",
    "\n",
    "lead_sym = kwant.TranslationalSymmetry((-a, 0))\n",
    "lead = kwant.Builder(lead_sym)\n",
    "\n",
    "lead[lat.shape(lead_shape, (0,0))] = 4\n",
    "lead[lat.neighbors()] = -1\n",
    "\n",
    "syst.attach_lead(lead)\n",
    "syst.attach_lead(lead.reversed())\n",
    "\n",
    "fig = kwant.plot(syst, dpi=196);\n",
    "fig.savefig(\"circular_sq_lat_wleads.png\", dpi=196)"
   ]
  },
  {
   "cell_type": "markdown",
   "metadata": {},
   "source": [
    "# Calculating local density of states"
   ]
  },
  {
   "cell_type": "code",
   "execution_count": null,
   "metadata": {},
   "outputs": [],
   "source": [
    "local_dos = kwant.ldos(syst.finalized(), energy=1.0)\n",
    "fig = kwant.plotter.map(syst.finalized(), local_dos, \n",
    "                  num_lead_cells=5,\n",
    "                  background='w',\n",
    "                  cmap='OrRd',\n",
    "                  dpi=196);\n",
    "fig.savefig(\"circular_square_lat_ldos.png\", dpi=196)"
   ]
  },
  {
   "cell_type": "markdown",
   "metadata": {},
   "source": [
    "# Point contact (constriction)"
   ]
  },
  {
   "cell_type": "code",
   "execution_count": null,
   "metadata": {
    "scrolled": false
   },
   "outputs": [],
   "source": [
    "a = 1\n",
    "lat = kwant.lattice.square(a)\n",
    "syst = kwant.Builder()\n",
    "\n",
    "t = -2.0\n",
    "V_L = -3*t\n",
    "V_S = -3*t\n",
    "\n",
    "w_constriction = 8\n",
    "l_constriction = 10\n",
    "\n",
    "w_lead = 40\n",
    "l_lead = 3\n",
    "\n",
    "# A shape can be defined using a function, that returns True, if a point is\n",
    "# inside the shape, False otherwise\n",
    "def shape1(pos):\n",
    "  x,y = pos\n",
    "  return abs(x) < l_constriction and abs(y) < w_constriction\n",
    "\n",
    "def shape2(pos):\n",
    "  x,y = pos\n",
    "  return (l_constriction <= abs(x) < l_constriction + l_lead) and abs(y) < w_lead \n",
    "\n",
    "# Doc: https://kwant-project.org/doc/1/reference/generated/kwant.lattice.Polyatomic#kwant.lattice.Polyatomic.shape\n",
    "syst[lat.shape(function=shape1, start=(0,0))] = V_S\n",
    "syst[lat.shape(function=shape2, start=(l_constriction,0))] = V_S\n",
    "syst[lat.shape(function=shape2, start=(-l_constriction,0))] = V_S\n",
    "\n",
    "# Adding hoppings to the lattice:\n",
    "syst[lat.neighbors()] = t\n",
    "\n",
    "# Attach leads to the system\n",
    "def lead_shape(pos):\n",
    "  x,y = pos\n",
    "  return (-w_lead < y < w_lead)\n",
    "\n",
    "lead_sym = kwant.TranslationalSymmetry((-a, 0))\n",
    "lead = kwant.Builder(lead_sym)\n",
    "\n",
    "lead[lat.shape(lead_shape, (0,0))] = V_L\n",
    "lead[lat.neighbors()] = t\n",
    "\n",
    "syst.attach_lead(lead)\n",
    "syst.attach_lead(lead.reversed())\n",
    "\n",
    "fig = kwant.plot(syst, dpi=196);\n",
    "fig.savefig(\"2degconst_W{0}_L{1}.png\".format(w_constriction, l_constriction), dpi=196)"
   ]
  },
  {
   "cell_type": "code",
   "execution_count": null,
   "metadata": {},
   "outputs": [],
   "source": [
    "energies = np.linspace(0, 5, 150)\n",
    "data = []\n",
    "\n",
    "syst = syst.finalized()\n",
    "\n",
    "sn_data = []\n",
    "\n",
    "for e in energies:\n",
    "  # compute the scattering matrix at a given energy\n",
    "  smatrix = kwant.smatrix(syst, e)\n",
    "  \n",
    "  # compute the transmission probability from lead 0 to\n",
    "  # lead 1\n",
    "  data.append(smatrix.transmission(1, 0))\n",
    "  \n",
    "  # Calculating two-terminal shotnoise for the same system\n",
    "  sn_data.append(kwant.physics.two_terminal_shotnoise(smatrix))"
   ]
  },
  {
   "cell_type": "code",
   "execution_count": null,
   "metadata": {
    "scrolled": false
   },
   "outputs": [],
   "source": [
    "# We should see conductance steps\n",
    "plt.figure(dpi=196)\n",
    "plt.plot(energies, data, \"-\")\n",
    "plt.xlabel(\"E [t]\")\n",
    "plt.title(r\"$V_L={0}, V_S={1}, t={2}$\".format(V_L, V_S, t))\n",
    "plt.ylabel(r\"$\\sigma$ [$2e^2/h$]\")\n",
    "plt.savefig(\"cond_2deg_W{0}_L{1}_VL{2}_VS{3}.png\".format(w_constriction, l_constriction, V_L, V_S), dpi=196)"
   ]
  },
  {
   "cell_type": "code",
   "execution_count": null,
   "metadata": {},
   "outputs": [],
   "source": [
    "plt.figure(dpi=196)\n",
    "plt.plot(energies, sn_data, \"-\")\n",
    "plt.xlabel(\"E [t]\")\n",
    "plt.title(r\"$V_L={0}, V_S={1}, t={2}$\".format(V_L, V_S, t))\n",
    "plt.ylabel(r\"shotnoise [$2e^3|V|/(\\pi\\hbar)$]\")\n",
    "plt.savefig(\"shotnoise_2deg_W{0}_L{1}_VL{2}_VS{3}.png\".format(w_constriction, l_constriction, V_L, V_S), dpi=196)"
   ]
  },
  {
   "cell_type": "code",
   "execution_count": null,
   "metadata": {},
   "outputs": [],
   "source": [
    "# Mu-dependence of conductance using kernel polynomial method\n",
    "sigma_xy = kwant.kpm.conductivity(syst, alpha='x', beta='y')\n",
    "conductivities = [sigma_xy(mu=mu, temperature=0.1) for mu in np.linspace(0, 4)]"
   ]
  },
  {
   "cell_type": "code",
   "execution_count": null,
   "metadata": {
    "scrolled": false
   },
   "outputs": [],
   "source": [
    "help(kwant.kpm)"
   ]
  }
 ],
 "metadata": {
  "kernelspec": {
   "display_name": "Python 3",
   "language": "python",
   "name": "python3"
  },
  "language_info": {
   "codemirror_mode": {
    "name": "ipython",
    "version": 3
   },
   "file_extension": ".py",
   "mimetype": "text/x-python",
   "name": "python",
   "nbconvert_exporter": "python",
   "pygments_lexer": "ipython3",
   "version": "3.6.7"
  }
 },
 "nbformat": 4,
 "nbformat_minor": 2
}
