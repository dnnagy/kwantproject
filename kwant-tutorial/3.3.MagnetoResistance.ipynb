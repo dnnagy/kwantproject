{
 "cells": [
  {
   "cell_type": "markdown",
   "metadata": {
    "collapsed": false
   },
   "source": [
    "# Giant Magneto Resistance"
   ]
  },
  {
   "cell_type": "markdown",
   "metadata": {},
   "source": [
    "<img src='images/GMR-cartoon.png'/>"
   ]
  },
  {
   "cell_type": "markdown",
   "metadata": {},
   "source": [
    "In this example, we will learn how to play with the spin degree of freedom in a model. We will implement a crude\n",
    "model for a Ferromagnetic-Normal spacer-Ferromagnetic (FNF) spin valve and compute the conductance as a function of the angle $\\theta$ between the two magnetization. The ferromagnets are model by simply adding an sd exchange term of the form\n",
    "$$-J m.\\sigma$$\n",
    "in the Hamiltonian where $m$ is the direction of the magnetization, $\\sigma$ a vector of Pauli matrices and $J$ the exchange constant."
   ]
  },
  {
   "cell_type": "code",
   "execution_count": null,
   "metadata": {
    "collapsed": false
   },
   "outputs": [],
   "source": [
    "from types import SimpleNamespace\n",
    "from math import cos, sin, pi\n",
    "\n",
    "%run matplotlib_setup.ipy\n",
    "from matplotlib import pyplot\n",
    "\n",
    "import numpy as np\n",
    "import scipy.stats as reg\n",
    "import kwant"
   ]
  },
  {
   "cell_type": "code",
   "execution_count": null,
   "metadata": {
    "collapsed": false
   },
   "outputs": [],
   "source": [
    "lat = kwant.lattice.square()\n",
    "\n",
    "s_0 = np.identity(2)\n",
    "s_z = np.array([[1, 0], [0, -1]])\n",
    "s_x = np.array([[0, 1], [1, 0]])\n",
    "s_y = np.array([[0, -1j], [1j, 0]])\n",
    "\n",
    "def onsite(site, p):\n",
    "    x = site.pos[0]\n",
    "    if x > W and x < 2*W:\n",
    "        return 4*s_0 + p.Exc*s_z\n",
    "    if x > 3*W and x < 4*W:\n",
    "        return 4*s_0 + p.Exc*cos(p.angle)*s_z + p.Exc*sin(p.angle)*s_x\n",
    "    return 4*s_0\n",
    "\n",
    "W = 10\n",
    "H = kwant.Builder()\n",
    "H[(lat(x,y) for x in range(5*W) for y in range(W))] = onsite\n",
    "H[lat.neighbors()] = s_0\n",
    "\n",
    "sym = kwant.TranslationalSymmetry(lat.vec((1,0)))\n",
    "Hlead =kwant.Builder(sym)\n",
    "Hlead[(lat(0,y) for y in range(W))] = 4*s_0\n",
    "Hlead[lat.neighbors()] = s_0\n",
    "H.attach_lead(Hlead)\n",
    "H.attach_lead(Hlead.reversed())\n",
    "kwant.plot(H);"
   ]
  },
  {
   "cell_type": "markdown",
   "metadata": {},
   "source": [
    "In order to visualize the potential, it can be useful to have color maps of it."
   ]
  },
  {
   "cell_type": "code",
   "execution_count": null,
   "metadata": {
    "collapsed": false
   },
   "outputs": [],
   "source": [
    "ps = SimpleNamespace(Exc=2., E=1.2, angle=pi)\n",
    "\n",
    "def V(site):\n",
    "    Hd = onsite(site,ps)\n",
    "    return (Hd[0,0] - Hd[1,1]).real\n",
    "\n",
    "kwant.plotter.map(H, V);"
   ]
  },
  {
   "cell_type": "markdown",
   "metadata": {},
   "source": [
    "Now let us compute the angular magneto-resistance.\n",
    "Try playing with the parameters, what do you observe? Do you understand why?\n",
    "Is there anything wrong with our model?"
   ]
  },
  {
   "cell_type": "code",
   "execution_count": null,
   "metadata": {
    "collapsed": false
   },
   "outputs": [],
   "source": [
    "Hf = H.finalized()\n",
    "data = []\n",
    "angles = np.linspace(0,2*pi,100)\n",
    "\n",
    "params = SimpleNamespace(Exc=0.2, E=2.3)\n",
    "for params.angle in angles:\n",
    "    smatrix = kwant.smatrix(Hf, params.E, args=[params])\n",
    "    data.append(smatrix.transmission(1, 0))\n",
    "    \n",
    "pyplot.plot(angles, data);\n",
    "pyplot.xlabel('angle')\n",
    "pyplot.ylabel('Conductance in unit of $(e^2/h)$');"
   ]
  },
  {
   "cell_type": "markdown",
   "metadata": {
    "collapsed": false
   },
   "source": [
    "# Magnetic texture : the example of a skyrmion\n",
    "Last, we can start playing with the magnetic texture, for instance a skyrmion as in the example below.\n",
    "\n",
    "$$H = - t \\sum_{<ij>} |i><j| + \\sum_i V_i \\ \\ |i><i|$$\n",
    "\n",
    "$$V_i = J \\ m ( r) \\cdot  \\sigma $$\n",
    "\n",
    "$$ m ( r) = \\left(x/r \\sin\\theta \\ , \\ y/r \\sin\\theta \\ ,\\  \\cos\\theta \\right) $$\n",
    "\n",
    "$$\\theta (r) = \\tanh \\frac{r-r_0}{\\delta}$$\n",
    "\n",
    "Another difference is that we will have 4 terminals and calculate the Hall resistance instead of the 2 terminal conductance.\n",
    "This amounts to imposing the current and measuring the voltage, i.e. solving a small linear problem which is readily done with numpy.\n",
    "\n",
    "Can you calculate the longitudinal resistance?\n"
   ]
  },
  {
   "cell_type": "code",
   "execution_count": null,
   "metadata": {
    "collapsed": true
   },
   "outputs": [],
   "source": [
    "def HedgeHog(site,ps):\n",
    "        x,y = site.pos\n",
    "        r = ( x**2 + y**2 )**0.5\n",
    "        theta = (np.pi/2)*(np.tanh((ps.r0 - r)/ps.delta) + 1)\n",
    "        if r != 0:\n",
    "            Ex = (x/r)*np.sin(theta)*s_x + (y/r)*np.sin(theta)*s_y + np.cos(theta)*s_z\n",
    "        else:\n",
    "            Ex = s_z\n",
    "        return 4*s_0 + ps.Ex * Ex\n",
    "       \n",
    "\n",
    "def Lead_Pot(site,ps):\n",
    "    return  4*s_0 +  ps.Ex * s_z\n",
    "\n",
    "def MakeSystem(ps, show = False):\n",
    "    H  = kwant.Builder()\n",
    "\n",
    "    def shape_2DEG(pos):\n",
    "        x,y = pos\n",
    "        return  ( (abs(x) < ps.L) and (abs(y) < ps.W) ) or ( \n",
    "            (abs(x) < ps.W) and (abs(y) < ps.L))\n",
    "    \n",
    "    H[lat.shape(shape_2DEG,(0,0))] = HedgeHog\n",
    "    H[lat.neighbors()] = -s_0\n",
    "    \n",
    "    # ITS LEADS \n",
    "    sym_x = kwant.TranslationalSymmetry((-1,0))\n",
    "    H_lead_x = kwant.Builder(sym_x)\n",
    "    shape_x = lambda pos: abs(pos[1])<ps.W and pos[0]==0 \n",
    "    H_lead_x[lat.shape(shape_x,(0,0))] = Lead_Pot\n",
    "    H_lead_x[lat.neighbors()] = -s_0\n",
    "   \n",
    "    sym_y = kwant.TranslationalSymmetry((0,-1))\n",
    "    H_lead_y = kwant.Builder(sym_y)\n",
    "    shape_y = lambda pos: abs(pos[0])<ps.W and pos[1]==0 \n",
    "    H_lead_y[lat.shape(shape_y,(0,0))] = Lead_Pot \n",
    "    H_lead_y[lat.neighbors()] = -s_0\n",
    "    \n",
    "    H.attach_lead(H_lead_x)\n",
    "    H.attach_lead(H_lead_y)\n",
    "    H.attach_lead(H_lead_y.reversed())\n",
    "    H.attach_lead(H_lead_x.reversed())\n",
    "    \n",
    "    if show:\n",
    "        kwant.plot(H)\n",
    "\n",
    "    return H\n",
    " \n",
    "\n",
    "def Transport(Hf,EE,ps):\n",
    "    smatrix = kwant.smatrix(Hf, energy=EE, args=[ps])\n",
    "    G=np.zeros((4,4))\n",
    "    for i in range(4):\n",
    "        a=0\n",
    "        for j in range(4): \n",
    "            G[i,j] = smatrix.transmission(i, j)\n",
    "            if i != j:\n",
    "                a += G[i,j]\n",
    "        G[i,i] = -a \n",
    "        \n",
    "    V = np.linalg.solve(G[:3,:3], [1.,0,0])\n",
    "    Hall = V[2] - V[1]\n",
    "    \n",
    "    return G, Hall"
   ]
  },
  {
   "cell_type": "code",
   "execution_count": null,
   "metadata": {
    "collapsed": false
   },
   "outputs": [],
   "source": [
    "ps = SimpleNamespace(L=45, W=40, delta=10, r0=20, Ex=1.)\n",
    "\n",
    "H = MakeSystem(ps, show=True)\n",
    "Hf = H.finalized()\n",
    "\n",
    "def Vz(site):\n",
    "    Hd = HedgeHog(site,ps)\n",
    "    return (Hd[0,0] - Hd[1,1]).real \n",
    "\n",
    "def Vy(site):\n",
    "    Hd = HedgeHog(site, ps)\n",
    "    return Hd[0,1].imag \n",
    "\n",
    "kwant.plotter.map(H, Vz);\n",
    "kwant.plotter.map(H, Vy);"
   ]
  },
  {
   "cell_type": "code",
   "execution_count": null,
   "metadata": {
    "collapsed": false
   },
   "outputs": [],
   "source": [
    "# HALL RESISTANCE\n",
    "ps = SimpleNamespace(L=20, W=15, delta=3, r0=6, Ex=1.)\n",
    "\n",
    "H = MakeSystem(ps, show=False)\n",
    "Es = np.linspace(0.1,3.,50)\n",
    "Hf = H.finalized()\n",
    "dataG , dataHall = [],[]\n",
    "\n",
    "for EE in Es: \n",
    "    ps.delta = EE\n",
    "    energy = 2.\n",
    "    G,Hall = Transport(Hf, energy, ps)\n",
    "    dataHall.append(Hall)\n",
    "\n",
    "pyplot.plot(Es, dataHall, 'o-', label=\"Skyrmion\")\n",
    "pyplot.xlabel('Domain width $\\delta$')\n",
    "pyplot.ylabel('Hall Resistance')\n",
    "pyplot.title('Topologial Hall  Resistance?')\n",
    "pyplot.legend();"
   ]
  }
 ],
 "metadata": {
  "kernelspec": {
   "display_name": "IPython 3",
   "language": "python",
   "name": "python3"
  },
  "language_info": {
   "codemirror_mode": {
    "name": "ipython",
    "version": 3
   },
   "file_extension": ".py",
   "mimetype": "text/x-python",
   "name": "python",
   "nbconvert_exporter": "python",
   "pygments_lexer": "ipython3",
   "version": "3.4.4"
  },
  "name": "MagnetoResistance.ipynb"
 },
 "nbformat": 4,
 "nbformat_minor": 0
}
