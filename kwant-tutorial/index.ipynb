{
 "cells": [
  {
   "cell_type": "markdown",
   "metadata": {},
   "source": [
    "# 1.1 Introduction"
   ]
  },
  {
   "cell_type": "markdown",
   "metadata": {},
   "source": [
    "Quantum nanoelectronics deals with the physics of small ($< 1 \\mu\\textrm{m}$) and/or cold (down to $\\sim 10 \\textrm{mK}$) objects connected to the macroscopic world through electrodes or gates.\n",
    "A central question at the core of this field is how quantum effects can be observed and manipulated through the macroscopic measuring apparatus.\n",
    "\n",
    "In this tutorial, we will give a pedagogical introduction to the field.\n",
    "We will begin with an introduction to the main theoretical concepts and a review of some seminal experiments.\n",
    "The central part of the tutorial will be devoted to practical training on numerical calculations: we will demonstrate how researchers can simply setup their own models and perform their own calculations.\n",
    "These calculations can be used for theoretical predictions, to explain experimental data or even to assist the conception of device design.\n",
    "\n",
    "This material formed a major part of the [\"Introduction to Computational Quantum Nanoelectronics\"](http://www.aps.org/meetings/march/events/tutorials.cfm#t10) given at the 2016 APS March Meeting."
   ]
  },
  {
   "cell_type": "markdown",
   "metadata": {},
   "source": [
    "## Organization\n",
    "1. Introduction\n",
    "    + [Course introduction](index.ipynb)\n",
    "    + [Python refresher](1.2.python-refresher.ipynb)\n",
    "   \n",
    "2. Basic numerical quantum transport\n",
    "    + [Discretizing continuum Hamiltonians, energy levels in a quantum dot](2.1.Discretizing-Hamiltonians-computing-spectra.ipynb)\n",
    "    + [Translationally invariant systems and scattering](2.2.scattering.ipynb)\n",
    "    + [Quantum point contacts](2.3.transport_through_barrier.ipynb)\n",
    "  \n",
    "3. Advanced numerical quantum transport\n",
    "    + [Aharonov-Bohm effect](3.1.Aharonov-Bohm.ipynb) ([solutions](3.1.Aharonov-Bohm-cheat.ipynb))\n",
    "    + [Quantum Hall effect](3.2.Quantum-Hall-effect-and-disorder.ipynb)\n",
    "    + [Spintronics: giant magnetoresistance](3.3.MagnetoResistance.ipynb) ([solutions](3.3.MagnetoResistance-cheat.ipynb))\n",
    "    + [Graphene and quantum spin Hall effect](3.4.graphene_qshe.ipynb) ([solutions](3.4.graphene_qshe-cheat.ipynb))"
   ]
  }
 ],
 "metadata": {
  "kernelspec": {
   "display_name": "Python 3",
   "language": "python",
   "name": "python3"
  },
  "language_info": {
   "codemirror_mode": {
    "name": "ipython",
    "version": 3
   },
   "file_extension": ".py",
   "mimetype": "text/x-python",
   "name": "python",
   "nbconvert_exporter": "python",
   "pygments_lexer": "ipython3",
   "version": "3.4.3+"
  }
 },
 "nbformat": 4,
 "nbformat_minor": 0
}
