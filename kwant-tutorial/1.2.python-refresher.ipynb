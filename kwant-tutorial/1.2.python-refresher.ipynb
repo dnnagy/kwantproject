{
 "cells": [
  {
   "cell_type": "markdown",
   "metadata": {
    "ein.tags": [
     "worksheet-0"
    ]
   },
   "source": [
    "# Quick introduction to Python and Jupyter notebooks\n",
    "\n",
    "Jupyter notebooks consist of a sequence of *cells*.  Cells can contain code (for example Python), or text.  A selected cell can be executed by pressing Shift-Enter.\n",
    "\n",
    "## Powers of numbers\n",
    "\n",
    "The following cell prints the first 7 square numbers.  Execute it!"
   ]
  },
  {
   "cell_type": "code",
   "execution_count": null,
   "metadata": {
    "autoscroll": "json-false",
    "collapsed": false,
    "ein.tags": [
     "worksheet-0"
    ]
   },
   "outputs": [],
   "source": [
    "for i in range(7):\n",
    "    print(i**2)"
   ]
  },
  {
   "cell_type": "markdown",
   "metadata": {
    "ein.tags": [
     "worksheet-0"
    ]
   },
   "source": [
    "#### Your turn!\n",
    "\n",
    "The next cell is a copy of the previous one.  Modify it to print, say, the first 9 *cube* numbers."
   ]
  },
  {
   "cell_type": "code",
   "execution_count": null,
   "metadata": {
    "autoscroll": "json-false",
    "collapsed": false,
    "ein.tags": [
     "worksheet-0"
    ]
   },
   "outputs": [],
   "source": [
    "for i in range(7):\n",
    "    print(i**2)"
   ]
  },
  {
   "cell_type": "markdown",
   "metadata": {
    "ein.tags": [
     "worksheet-0"
    ]
   },
   "source": [
    "## Prime numbers\n",
    "\n",
    "Let’s now look at a function that checks whether a number is prime."
   ]
  },
  {
   "cell_type": "code",
   "execution_count": null,
   "metadata": {
    "autoscroll": "json-false",
    "collapsed": false,
    "ein.tags": [
     "worksheet-0"
    ]
   },
   "outputs": [],
   "source": [
    "def is_prime_naive(n):\n",
    "    for i in range(2, n):       # Note: range(n, m) -> n, n+1, ..., m-1\n",
    "        if n % i == 0:          # % is the modulo operation.\n",
    "           return False\n",
    "    return True    "
   ]
  },
  {
   "cell_type": "markdown",
   "metadata": {
    "ein.tags": [
     "worksheet-0"
    ]
   },
   "source": [
    "Let’s try it out:"
   ]
  },
  {
   "cell_type": "code",
   "execution_count": null,
   "metadata": {
    "autoscroll": "json-false",
    "collapsed": false,
    "ein.tags": [
     "worksheet-0"
    ]
   },
   "outputs": [],
   "source": [
    "is_prime_naive(2**19 - 1), is_prime_naive(1000000)"
   ]
  },
  {
   "cell_type": "markdown",
   "metadata": {
    "ein.tags": [
     "worksheet-0"
    ]
   },
   "source": [
    "Note that the notebook simply prints the value of the last expression in a cell, we did not have to use print.\n",
    "\n",
    "The above routine is, of course, absurdly inefficient.  Let’s try out the next Mersenne prime."
   ]
  },
  {
   "cell_type": "code",
   "execution_count": null,
   "metadata": {
    "autoscroll": "json-false",
    "collapsed": false,
    "ein.tags": [
     "worksheet-0"
    ]
   },
   "outputs": [],
   "source": [
    "is_prime_naive(2**31 - 1)"
   ]
  },
  {
   "cell_type": "markdown",
   "metadata": {
    "ein.tags": [
     "worksheet-0"
    ]
   },
   "source": [
    "Since the above calculation is taking a very long time, let’s interrupt the computation by using the pull-down menu “Kernel”.\n",
    "\n",
    "To speed up the routine, the first thing we can do is avoid to divide by even numbers:"
   ]
  },
  {
   "cell_type": "code",
   "execution_count": null,
   "metadata": {
    "autoscroll": "json-false",
    "collapsed": false,
    "ein.tags": [
     "worksheet-0"
    ]
   },
   "outputs": [],
   "source": [
    "def is_prime_slow(n):\n",
    "    if n % 2 == 0:\n",
    "        return False\n",
    "    for i in range(3, n, 2):\n",
    "        if n % i == 0:\n",
    "           return False\n",
    "    return True"
   ]
  },
  {
   "cell_type": "markdown",
   "metadata": {
    "ein.tags": [
     "worksheet-0"
    ]
   },
   "source": [
    "To better understand the built-in `range` function, place the cursor on it in the above cell and press “shift + Tab” first once, and then a second time.  This works for most functions."
   ]
  },
  {
   "cell_type": "markdown",
   "metadata": {
    "ein.tags": [
     "worksheet-0"
    ]
   },
   "source": [
    "#### Your turn!\n",
    "\n",
    "The above speedup is not significant.  To improve the runtime cost from $O(n)$ to $O(\\sqrt{n})$, observe the following:\n",
    "\n",
    "* The square root of a number `x` is given by `math.sqrt(x)`.\n",
    "* This function is part of the `math` package that needs to be imported with the `import math` statement, preferably before the function definition.\n",
    "* ‘range‘ only accepts integer arguments.  To truncate the real number `x` towards zero, use `int(x)`.\n",
    "\n",
    "Copy the cell of `is_prime_slow` by using the “Edit” menu.  Paste it below this cell, and rename the function to `is_prime`.  Now use the above hints to make it significantly faster."
   ]
  },
  {
   "cell_type": "markdown",
   "metadata": {
    "ein.tags": [
     "worksheet-0"
    ]
   },
   "source": [
    "Check it with the huge prime number below.  It should evaluate instantly."
   ]
  },
  {
   "cell_type": "code",
   "execution_count": null,
   "metadata": {
    "autoscroll": "json-false",
    "collapsed": false,
    "ein.tags": [
     "worksheet-0"
    ]
   },
   "outputs": [],
   "source": [
    "is_prime(2**31 - 1)"
   ]
  },
  {
   "cell_type": "markdown",
   "metadata": {
    "ein.tags": [
     "worksheet-0"
    ]
   },
   "source": [
    "Did you bear in mind that the result of `range` does not include the upper boundary?  Check it:"
   ]
  },
  {
   "cell_type": "code",
   "execution_count": null,
   "metadata": {
    "autoscroll": "json-false",
    "collapsed": false,
    "ein.tags": [
     "worksheet-0"
    ]
   },
   "outputs": [],
   "source": [
    "is_prime(9)"
   ]
  },
  {
   "cell_type": "markdown",
   "metadata": {
    "ein.tags": [
     "worksheet-0"
    ]
   },
   "source": [
    "## Linear algebra\n",
    "\n",
    "The `numpy` package offers a wealth of functionality for multi-dimensional numerical arrays.  It gives Python MATLAB-like capabilities -- only that Python is a much nicer programming language.\n",
    "\n",
    "Let's create a square matrix and fill both of its diagonals next to the main one with `-1`.  This is a simple model for an elastic string.\n",
    "\n",
    "(Note that, for the sake of demonstration, we construct a *dense* matrix, even though most of its entries are zero.  Sparse linear algebra in Python is provided by the `scipy` package, for example.)"
   ]
  },
  {
   "cell_type": "code",
   "execution_count": null,
   "metadata": {
    "autoscroll": "json-false",
    "collapsed": false,
    "ein.tags": [
     "worksheet-0"
    ]
   },
   "outputs": [],
   "source": [
    "import numpy as np\n",
    "\n",
    "n = 100\n",
    "M = np.zeros((n, n))            # Create an matrix filled with zeros.\n",
    "for i in range(n - 1):\n",
    "    M[i, i + 1] = M[i + 1, i] = -1\n",
    "\n",
    "print(M)"
   ]
  },
  {
   "cell_type": "markdown",
   "metadata": {
    "ein.tags": [
     "worksheet-0"
    ]
   },
   "source": [
    "The above code is not in the spirit of NumPy, since one of NumPy's main goals is to avoid loops by *vectorizing* code.  Vectorization can bring numerical Python up to C speed by moving loops from slow Python to fast machine code.\n",
    "\n",
    "The below cell re-creates the same matrix `M` as the above cell.  Note that `i` is no longer a scalar, but a vector of 99 integers."
   ]
  },
  {
   "cell_type": "code",
   "execution_count": null,
   "metadata": {
    "autoscroll": "json-false",
    "collapsed": false,
    "ein.tags": [
     "worksheet-0"
    ]
   },
   "outputs": [],
   "source": [
    "n = 100\n",
    "\n",
    "i = np.arange(n - 1)\n",
    "M = np.zeros((n, n))\n",
    "M[i, i + 1] = M[i + 1, i] = -1\n",
    "\n",
    "print(M)"
   ]
  },
  {
   "cell_type": "markdown",
   "metadata": {
    "ein.tags": [
     "worksheet-0"
    ]
   },
   "source": [
    "Now let's use NumPy to calculate the eigenvalues and eigenvectors of the Hermitian matrix `M`:"
   ]
  },
  {
   "cell_type": "code",
   "execution_count": null,
   "metadata": {
    "autoscroll": "json-false",
    "collapsed": false,
    "ein.tags": [
     "worksheet-0"
    ]
   },
   "outputs": [],
   "source": [
    "vals, vecs = np.linalg.eigh(M)"
   ]
  },
  {
   "cell_type": "markdown",
   "metadata": {
    "ein.tags": [
     "worksheet-0"
    ]
   },
   "source": [
    "The `matplotlib` package is the standard way to plot data in Python.  Let’s use it to plot the *third* eigenvector.  Note how we use NumPy’s “fancy indexing” to extract the the third (= index 2) column of the ‘vecs‘ matrix.\n",
    "\n",
    "(The trailing semicolon has no meaning in Python.  It makes the notebook suppress the output of the preceding command.)"
   ]
  },
  {
   "cell_type": "code",
   "execution_count": null,
   "metadata": {
    "autoscroll": "json-false",
    "collapsed": false,
    "ein.tags": [
     "worksheet-0"
    ]
   },
   "outputs": [],
   "source": [
    "%run matplotlib_setup.ipy\n",
    "from matplotlib import pyplot\n",
    "\n",
    "pyplot.plot(vecs[:, 2]);"
   ]
  },
  {
   "cell_type": "markdown",
   "metadata": {
    "ein.tags": [
     "worksheet-0"
    ]
   },
   "source": [
    "#### Your turn!\n",
    "As an exercise, write a loop that computes the product of all the eigenvalues of `M`.  Verify that it is equal to the determinant given by `np.linalg.det`."
   ]
  },
  {
   "cell_type": "markdown",
   "metadata": {
    "ein.tags": [
     "worksheet-0"
    ]
   },
   "source": [
    "Here is a faster way to calculate the product of the entries of a NumPy array:"
   ]
  },
  {
   "cell_type": "code",
   "execution_count": null,
   "metadata": {
    "autoscroll": "json-false",
    "collapsed": false,
    "ein.tags": [
     "worksheet-0"
    ]
   },
   "outputs": [],
   "source": [
    "vals.prod()"
   ]
  },
  {
   "cell_type": "markdown",
   "metadata": {
    "ein.tags": [
     "worksheet-0"
    ]
   },
   "source": [
    "Note that the thing before the dot is no longer a package or module but a general object -- a NumPy array in this case.  `prod` is not a function, but a *method*, i.e. an operation of the object `vals`."
   ]
  }
 ],
 "metadata": {
  "kernelspec": {
   "display_name": "IPython 3",
   "language": "python",
   "name": "python3"
  },
  "language_info": {
   "codemirror_mode": {
    "name": "ipython",
    "version": 3
   },
   "file_extension": ".py",
   "mimetype": "text/x-python",
   "name": "python",
   "nbconvert_exporter": "python",
   "pygments_lexer": "ipython3",
   "version": "3.4.4"
  },
  "name": "1.3.python-refresher.ipynb"
 },
 "nbformat": 4,
 "nbformat_minor": 0
}
