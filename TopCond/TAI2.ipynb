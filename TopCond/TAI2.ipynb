{
 "cells": [
  {
   "cell_type": "code",
   "execution_count": 3,
   "metadata": {},
   "outputs": [
    {
     "name": "stderr",
     "output_type": "stream",
     "text": [
      "/Users/nagydaniel/miniconda3/lib/python3.6/site-packages/kwant/solvers/default.py:18: RuntimeWarning: MUMPS is not available, SciPy built-in solver will be used as a fallback. Performance can be very poor in this case.\n",
      "  \"Performance can be very poor in this case.\", RuntimeWarning)\n"
     ]
    }
   ],
   "source": [
    "import kwant\n",
    "import kwant.continuum\n",
    "import scipy.sparse.linalg\n",
    "import scipy.linalg\n",
    "import numpy as np\n",
    "import time\n",
    "\n",
    "## 24 hour format ##\n",
    "def print_t(str_):\n",
    "  print( \"[\" + time.strftime(\"%Y-%m-%d %H:%M:%S\") + \"] \" + str(str_))\n",
    "  \n",
    "# For plotting\n",
    "import matplotlib as mpl\n",
    "from matplotlib import pyplot as plt\n",
    "\n",
    "plt.rcParams['text.usetex'] = True\n",
    "plt.rcParams['font.family'] = 'serif'\n",
    "\n",
    "s0 = np.eye(2)\n",
    "sx = np.array([[0,1], [1,0]])\n",
    "sy = np.array([[0, -1j],[1j, 0]])\n",
    "sz = np.array([[1,0],[0,-1]])\n",
    "\n",
    "def qsh_system(a=5, Lx=5000, Ly=500):\n",
    "  \n",
    "    hamiltonian = \"\"\"\n",
    "    (C-D*(k_x**2+k_y**2))*identity(4)\n",
    "    + (M-B*(k_x**2+k_y**2))*kron(sigma_0, sigma_z)\n",
    "    + A*k_x*kron(sigma_z, sigma_x)\n",
    "    + A*k_y*kron(sigma_z, sigma_y)\n",
    "    + V(x,y)*identity(4)\n",
    "    \"\"\"\n",
    "  \n",
    "    template = kwant.continuum.discretize(hamiltonian, grid=a)\n",
    "\n",
    "    def shape(site):\n",
    "        (x, y) = site.pos\n",
    "        return (0 <= y < Ly and 0 <= x < Lx)\n",
    "\n",
    "    def lead_shape(site):\n",
    "        (x, y) = site.pos\n",
    "        return (0 <= y < Ly)\n",
    "\n",
    "    syst = kwant.Builder()\n",
    "    syst.fill(template, shape, (0, 0))\n",
    "\n",
    "    lead = kwant.Builder(kwant.TranslationalSymmetry([-a, 0]))\n",
    "    lead.fill(template, lead_shape, (0, 0))\n",
    "\n",
    "    syst.attach_lead(lead)\n",
    "    syst.attach_lead(lead.reversed())\n",
    "\n",
    "    syst = syst.finalized()\n",
    "    return syst"
   ]
  },
  {
   "cell_type": "code",
   "execution_count": null,
   "metadata": {},
   "outputs": [],
   "source": [
    "def no_disorder(x, y):\n",
    "  return 0\n",
    "\n",
    "A = 3.645\n",
    "B = -68.6\n",
    "C = 0\n",
    "D = -51.2\n",
    "\n",
    "M_1 = 1e-3\n",
    "M_2 = -10e-3\n",
    "\n",
    "#params_1 = dict(A=A, B=B, C=C, D=D, M=M_1, V=no_disorder)\n",
    "#params_2 = dict(A=A, B=B, C=C, D=D, M=M_2, V=no_disorder)\n",
    "\n",
    "params_1 = dict(A = 364.5e-3, B=-686e-3, C=0.0, D=-512e-3, M=1.2e-2, V=no_disorder)\n",
    "params_2 = dict(A = 364.5e-3, B=-686e-3, C=0.0, D=-512e-3, M=-1e-3, V=no_disorder)\n",
    "\n",
    "e_1 = -20e-3\n",
    "e_2 = 25e-3\n",
    "e_3 = 9e-3\n",
    "\n",
    "a=5\n",
    "Lx=5000\n",
    "Ly=500"
   ]
  },
  {
   "cell_type": "code",
   "execution_count": null,
   "metadata": {
    "scrolled": false
   },
   "outputs": [],
   "source": [
    "from matplotlib.ticker import AutoMinorLocator\n",
    "syst = qsh_system(a, Lx, Ly)\n",
    "\n",
    "fig, ax = plt.subplots(figsize=(8,6), dpi=196)\n",
    "kwant.plotter.bands(syst.leads[0], params=params_1,\n",
    "                    momenta=np.linspace(-0.3, 0.3, 150),\n",
    "                    ax=ax);\n",
    "\n",
    "ax.axhline(e_1, color='g', linestyle='--', label=\"{} meV\".format(1e3*e_1))\n",
    "ax.axhline(e_2, color='purple', linestyle='--', label=\"{} meV\".format(1e3*e_2))\n",
    "ax.axhline(e_3, color='r', linestyle='--', label=\"{} meV\".format(1e3*e_3))\n",
    "plt.title(\"A={0}, B={1}, C={2}, D={3}, M={4}, a={5} Lx={6}, Ly={7}\"\n",
    "          .format(params_1['A'], params_1['B'], params_1['C'], params_1['D'],\n",
    "                 params_1['M'], a, Lx, Ly))\n",
    "\n",
    "minorLocator = AutoMinorLocator()\n",
    "ax.yaxis.set_minor_locator(minorLocator)\n",
    "plt.grid(True, alpha=0.5)\n",
    "\n",
    "plt.xlabel(r\"$k$\", fontsize=16)\n",
    "plt.ylabel(r\"$E (\\textnormal{eV})$\", fontsize=16)\n",
    "plt.tick_params(axis='both', which='major', labelsize=14)\n",
    "plt.legend(loc='upper left', fontsize=14);\n",
    "plt.savefig(\"bstructure_params_Lx={0}_Ly={1}_M={2}.png\".format(Lx, Ly, params_1['M']), dpi=196)"
   ]
  },
  {
   "cell_type": "code",
   "execution_count": null,
   "metadata": {},
   "outputs": [],
   "source": [
    "fig, ax = plt.subplots(figsize=(8,6), dpi=196)\n",
    "kwant.plotter.bands(syst.leads[0], params=params_2,\n",
    "                    momenta=np.linspace(-0.3,0.3, 150),\n",
    "                    ax=ax);\n",
    "\n",
    "ax.axhline(e_1, color='g', linestyle='--', label=\"{} meV\".format(1e3*e_1))\n",
    "ax.axhline(e_2, color='purple', linestyle='--', label=\"{} meV\".format(1e3*e_2))\n",
    "ax.axhline(e_3, color='r', linestyle='--', label=\"{} meV\".format(1e3*e_3))\n",
    "\n",
    "plt.title(\"A={0}, B={1}, C={2}, D={3}, M={4}, a={5} Lx={6}, Ly={7}\"\n",
    "          .format(params_2['A'], params_2['B'], params_2['C'], params_2['D'],\n",
    "                 params_2['M'], a, Lx, Ly))\n",
    "\n",
    "minorLocator = AutoMinorLocator()\n",
    "ax.yaxis.set_minor_locator(minorLocator)\n",
    "plt.xlabel(r\"$k$\", fontsize=16)\n",
    "plt.ylabel(r\"$E (\\textnormal{eV})$\", fontsize=16)\n",
    "plt.tick_params(axis='both', which='major', labelsize=14)\n",
    "plt.grid(True, alpha=0.5)\n",
    "\n",
    "\n",
    "plt.legend(loc='upper left', fontsize=14);\n",
    "plt.savefig(\"bstructure_params_Lx={0}_Ly={1}_M={2}.png\".format(Lx, Ly, params_2['M']), dpi=196)"
   ]
  },
  {
   "cell_type": "code",
   "execution_count": null,
   "metadata": {},
   "outputs": [],
   "source": [
    "def get_transmissions(syst, energy=0, params=params_1, Wmin=0.1, Wmax=100, npoints=30, nsamples=1, rs=None):\n",
    "  if rs != None:\n",
    "    np.random.seed(rs)\n",
    "    \n",
    "  Ws = np.logspace(np.log10(Wmin), np.log10(Wmax), npoints)\n",
    "  \n",
    "  G1=[]\n",
    "  G2=[]\n",
    "  G3=[]\n",
    "  for W in Ws:\n",
    "    print_t(\"W={}\".format(W))\n",
    "    def disorder(x,y):\n",
    "      return np.random.uniform(-W/2, W/2)\n",
    "    \n",
    "    params['V'] = disorder\n",
    "    #params_2['V'] = disorder\n",
    "    #params_3 = dict(params_1)\n",
    "    \n",
    "    t1 = []\n",
    "    t2 = []\n",
    "    t3 = []\n",
    "    for k in range(nsamples):\n",
    "      t1.append(kwant.smatrix(syst, energy=e_1, params=params).transmission(1,0))\n",
    "      t2.append(kwant.smatrix(syst, energy=e_2, params=params).transmission(1,0))\n",
    "      t3.append(kwant.smatrix(syst, energy=e_3, params=params).transmission(1,0))\n",
    "      \n",
    "    G1.append([np.mean(t1), np.std(t1)])\n",
    "    G2.append([np.mean(t2), np.std(t2)])\n",
    "    G3.append([np.mean(t3), np.std(t3)])\n",
    "    \n",
    "  return Ws, G1, G2, G3"
   ]
  },
  {
   "cell_type": "code",
   "execution_count": null,
   "metadata": {},
   "outputs": [],
   "source": [
    "n_samples = 1\n",
    "Wmax=500\n",
    "npoints=60\n",
    "nsamples=2"
   ]
  },
  {
   "cell_type": "code",
   "execution_count": null,
   "metadata": {},
   "outputs": [],
   "source": [
    "Ws, G1, G2, G3 = get_transmissions(syst, params=dict(params_1), Wmin=0.1, Wmax=Wmax, npoints=npoints, nsamples=n_samples)"
   ]
  },
  {
   "cell_type": "code",
   "execution_count": null,
   "metadata": {},
   "outputs": [],
   "source": [
    "plt.figure(figsize=(8,6), dpi=196)\n",
    "plt.errorbar(Ws, [g[0] for g in G1], [g[1] for g in G1], linestyle = '-', marker='^', capsize=2,\n",
    "            label=r\"$E_F={}$ meV\".format(1e3*e_1))\n",
    "plt.errorbar(Ws, [g[0] for g in G2], [g[1] for g in G2], linestyle = '-', marker='o', capsize=2,\n",
    "            label=r\"$E_F={}$ meV\".format(1e3*e_2))\n",
    "plt.errorbar(Ws, [g[0] for g in G3], [g[1] for g in G3], linestyle = '-', marker='s', capsize=2,\n",
    "            label=r\"$E_F={}$ meV\".format(1e3*e_3))\n",
    "plt.xscale('log')\n",
    "plt.xlabel(r\"$W$ $(\\textnormal{meV})$\", fontsize=16)\n",
    "plt.ylabel(r\"$G$ $(e^2/h)$\", fontsize=16)\n",
    "plt.tick_params(axis='both', which='major', labelsize=14)\n",
    "plt.legend(loc='upper right');\n",
    "plt.title(\"Lx={0}, Ly={1}, M={2}\".format(Lx, Ly, params_1['M']))\n",
    "plt.savefig(\"tai_result_Lx={0}_Ly={1}_M={2}_samples={3}.png\".format(Lx, Ly, params_1['M'], n_samples), dpi=196)"
   ]
  },
  {
   "cell_type": "code",
   "execution_count": null,
   "metadata": {},
   "outputs": [],
   "source": [
    "Ws, G4, G5, G6 = get_transmissions(syst, params=dict(params_2), Wmin=0.1, Wmax=400, npoints=30, nsamples=n_samples)"
   ]
  },
  {
   "cell_type": "code",
   "execution_count": null,
   "metadata": {},
   "outputs": [],
   "source": [
    "plt.figure(figsize=(8,6), dpi=196)\n",
    "plt.errorbar(Ws, [g[0] for g in G1], [g[1] for g in G4], linestyle = '-', marker='^', capsize=2,\n",
    "            label=r\"$E_F={}$ meV\".format(1e3*e_1))\n",
    "plt.errorbar(Ws, [g[0] for g in G2], [g[1] for g in G5], linestyle = '-', marker='o', capsize=2,\n",
    "            label=r\"$E_F={}$ meV\".format(1e3*e_2))\n",
    "plt.errorbar(Ws, [g[0] for g in G3], [g[1] for g in G6], linestyle = '-', marker='s', capsize=2,\n",
    "            label=r\"$E_F={}$ meV\".format(1e3*e_3))\n",
    "plt.xscale('log')\n",
    "plt.legend(loc='upper right');\n",
    "plt.xlabel(r\"$W$ $(\\textnormal{meV})$\", fontsize=16)\n",
    "plt.ylabel(r\"$G$ $(e^2/h)$\", fontsize=16)\n",
    "plt.tick_params(axis='both', which='major', labelsize=14)\n",
    "plt.title(\"Lx={0}, Ly={1}, M={2}\".format(Lx, Ly, params_2['M']))\n",
    "plt.savefig(\"tai_result_Lx={0}_Ly={1}_M={2}_samples={3}.png\".format(Lx, Ly, params_2['M'], n_samples), dpi=196);"
   ]
  },
  {
   "cell_type": "code",
   "execution_count": null,
   "metadata": {},
   "outputs": [],
   "source": [
    "p=dict(A=2, B=2, C=7)\n",
    "pp = dict(p)\n",
    "pp['C'] = 8\n",
    "p"
   ]
  },
  {
   "cell_type": "code",
   "execution_count": null,
   "metadata": {},
   "outputs": [],
   "source": [
    "np.sum([2**k for k in range(7)])"
   ]
  },
  {
   "cell_type": "code",
   "execution_count": null,
   "metadata": {},
   "outputs": [],
   "source": [
    "[k for k in range(7)]"
   ]
  },
  {
   "cell_type": "code",
   "execution_count": null,
   "metadata": {},
   "outputs": [],
   "source": [
    "M=990\n",
    "N=100\n",
    "p=2*M/(N*(N-1))\n",
    "p"
   ]
  },
  {
   "cell_type": "code",
   "execution_count": null,
   "metadata": {},
   "outputs": [],
   "source": [
    "\"params={}\".format(''.join(repr(dict(A=2, B=2, C=7)).split(\" \")))"
   ]
  },
  {
   "cell_type": "code",
   "execution_count": 17,
   "metadata": {},
   "outputs": [],
   "source": [
    "import multiprocessing as mp\n",
    "from functools import partial\n",
    "\n",
    "def pw(x, n):\n",
    "  a=0\n",
    "  for i in range(1000):\n",
    "    a=x**n\n",
    "  return a\n",
    "\n",
    "pw_2 = partial(pw, n=2)\n",
    "\n",
    "arr = np.linspace(0, 100, 10000)\n",
    "\n",
    "n_cpus = 2\n",
    "pool = mp.Pool(processes=n_cpus)"
   ]
  },
  {
   "cell_type": "code",
   "execution_count": 18,
   "metadata": {},
   "outputs": [
    {
     "name": "stdout",
     "output_type": "stream",
     "text": [
      "2.02 s ± 307 ms per loop (mean ± std. dev. of 7 runs, 1 loop each)\n"
     ]
    }
   ],
   "source": [
    "%%timeit\n",
    "results = pool.map(pw_2, arr)"
   ]
  },
  {
   "cell_type": "code",
   "execution_count": 19,
   "metadata": {},
   "outputs": [
    {
     "name": "stdout",
     "output_type": "stream",
     "text": [
      "3.25 s ± 244 ms per loop (mean ± std. dev. of 7 runs, 1 loop each)\n"
     ]
    }
   ],
   "source": [
    "%%timeit\n",
    "[pw_2(x) for x in np.linspace(0, 100, 10000)]"
   ]
  },
  {
   "cell_type": "code",
   "execution_count": 20,
   "metadata": {},
   "outputs": [],
   "source": [
    "a = [[[2,3], [3,4], [9,9]],  [[2,3], [3,4], [9,9]], [[2,3], [3,4], [9,9]]]\n",
    "a = np.array(a)"
   ]
  },
  {
   "cell_type": "code",
   "execution_count": 22,
   "metadata": {},
   "outputs": [
    {
     "ename": "ValueError",
     "evalue": "Expected 1D or 2D array, got 3D array instead",
     "output_type": "error",
     "traceback": [
      "\u001b[0;31m---------------------------------------------------------------------------\u001b[0m",
      "\u001b[0;31mValueError\u001b[0m                                Traceback (most recent call last)",
      "\u001b[0;32m<ipython-input-22-c3d1ecf5028f>\u001b[0m in \u001b[0;36m<module>\u001b[0;34m\u001b[0m\n\u001b[0;32m----> 1\u001b[0;31m \u001b[0mnp\u001b[0m\u001b[0;34m.\u001b[0m\u001b[0msavetxt\u001b[0m\u001b[0;34m(\u001b[0m\u001b[0;34m\"alma.txt\"\u001b[0m\u001b[0;34m,\u001b[0m \u001b[0ma\u001b[0m\u001b[0;34m)\u001b[0m\u001b[0;34m\u001b[0m\u001b[0;34m\u001b[0m\u001b[0m\n\u001b[0m",
      "\u001b[0;32m~/miniconda3/lib/python3.6/site-packages/numpy/lib/npyio.py\u001b[0m in \u001b[0;36msavetxt\u001b[0;34m(fname, X, fmt, delimiter, newline, header, footer, comments, encoding)\u001b[0m\n\u001b[1;32m   1323\u001b[0m         \u001b[0;32mif\u001b[0m \u001b[0mX\u001b[0m\u001b[0;34m.\u001b[0m\u001b[0mndim\u001b[0m \u001b[0;34m==\u001b[0m \u001b[0;36m0\u001b[0m \u001b[0;32mor\u001b[0m \u001b[0mX\u001b[0m\u001b[0;34m.\u001b[0m\u001b[0mndim\u001b[0m \u001b[0;34m>\u001b[0m \u001b[0;36m2\u001b[0m\u001b[0;34m:\u001b[0m\u001b[0;34m\u001b[0m\u001b[0;34m\u001b[0m\u001b[0m\n\u001b[1;32m   1324\u001b[0m             raise ValueError(\n\u001b[0;32m-> 1325\u001b[0;31m                 \"Expected 1D or 2D array, got %dD array instead\" % X.ndim)\n\u001b[0m\u001b[1;32m   1326\u001b[0m         \u001b[0;32melif\u001b[0m \u001b[0mX\u001b[0m\u001b[0;34m.\u001b[0m\u001b[0mndim\u001b[0m \u001b[0;34m==\u001b[0m \u001b[0;36m1\u001b[0m\u001b[0;34m:\u001b[0m\u001b[0;34m\u001b[0m\u001b[0;34m\u001b[0m\u001b[0m\n\u001b[1;32m   1327\u001b[0m             \u001b[0;31m# Common case -- 1d array of numbers\u001b[0m\u001b[0;34m\u001b[0m\u001b[0;34m\u001b[0m\u001b[0;34m\u001b[0m\u001b[0m\n",
      "\u001b[0;31mValueError\u001b[0m: Expected 1D or 2D array, got 3D array instead"
     ]
    }
   ],
   "source": [
    "np.savetxt(\"alma.txt\", a)"
   ]
  },
  {
   "cell_type": "code",
   "execution_count": null,
   "metadata": {},
   "outputs": [],
   "source": []
  }
 ],
 "metadata": {
  "kernelspec": {
   "display_name": "Python 3",
   "language": "python",
   "name": "python3"
  },
  "language_info": {
   "codemirror_mode": {
    "name": "ipython",
    "version": 3
   },
   "file_extension": ".py",
   "mimetype": "text/x-python",
   "name": "python",
   "nbconvert_exporter": "python",
   "pygments_lexer": "ipython3",
   "version": "3.6.7"
  }
 },
 "nbformat": 4,
 "nbformat_minor": 2
}
